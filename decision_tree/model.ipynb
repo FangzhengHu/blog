{
 "cells": [
  {
   "cell_type": "code",
   "execution_count": 1,
   "metadata": {
    "ExecuteTime": {
     "end_time": "2019-01-27T23:30:03.577540Z",
     "start_time": "2019-01-27T23:30:03.572314Z"
    },
    "collapsed": true
   },
   "outputs": [],
   "source": [
    "from collections import defaultdict"
   ]
  },
  {
   "cell_type": "code",
   "execution_count": 2,
   "metadata": {
    "ExecuteTime": {
     "end_time": "2019-01-27T23:30:03.871724Z",
     "start_time": "2019-01-27T23:30:03.866045Z"
    },
    "collapsed": true
   },
   "outputs": [],
   "source": [
    "training_data = [\n",
    "    ['Green', 3, 'Apple'],\n",
    "    ['Yellow', 3, 'Apple'],\n",
    "    ['Red', 1, 'Grape'],\n",
    "    ['Red', 1, 'Grape'],\n",
    "    ['Yellow', 3, 'Lemon'],\n",
    "]\n",
    "\n",
    "header = ['color', 'diameter', 'label']\n",
    "\n"
   ]
  },
  {
   "cell_type": "markdown",
   "metadata": {},
   "source": [
    "### Utility functions"
   ]
  },
  {
   "cell_type": "code",
   "execution_count": 9,
   "metadata": {
    "ExecuteTime": {
     "end_time": "2019-01-27T23:36:50.844606Z",
     "start_time": "2019-01-27T23:36:50.762535Z"
    },
    "collapsed": true
   },
   "outputs": [],
   "source": [
    "def unique_vals(rows, col):\n",
    "    \"\"\"Find the unique values for a column in a dataset\"\"\"\n",
    "    return set(row[col] for row in rows)\n",
    "\n",
    "def class_counts(rows):\n",
    "    \"\"\"Count the number of each type of example in a dataset\"\"\"\n",
    "    counts = defaultdict(lambda: 0)\n",
    "    for row in rows:\n",
    "        label = row[-1]\n",
    "        counts[label] += 1\n",
    "    return counts\n",
    "\n",
    "def is_numeric(value):\n",
    "    \"\"\"Test if a value is numeric\"\"\"\n",
    "    return isinstance(value, int) or isinstance(value, float)\n",
    "\n",
    "def gini_impurity(rows):\n",
    "    counts = class_counts(rows)\n",
    "    impurity = 1\n",
    "    for lbl in counts:\n",
    "        lbl_proba = counts[lbl] / float(len(rows))\n",
    "        impurity -= lbl_proba ** 2\n",
    "    return impurity\n",
    "\n",
    "def info_gain(left, right, current_impurity):\n",
    "    p = float(len(left)) / (len(left) + len(right))\n",
    "    child_impurity = p * gini_impurity(left) + (1-p) * gini_impurity(right)\n",
    "    return current_impurity - child_impurity\n",
    "\n",
    "def counts_to_freq(counts):\n",
    "    \"\"\"Transform counts into format of frequency\"\"\"\n",
    "    total = sum(counts.values()) * 1.0\n",
    "    probs = {}\n",
    "    for lbl in counts.keys():\n",
    "        probs[lbl] = counts[lbl] / total\n",
    "    return probs\n",
    "\n",
    "def print_tree(node, spacing=\"\"):\n",
    "    # Case 1\n",
    "    if isinstance(node, Leaf):\n",
    "        print(spacing, 'Predict', node.predictions)\n",
    "        return\n",
    "    \n",
    "    # Case 2\n",
    "    print(spacing, node.question)\n",
    "    spacing = spacing + \"    \"\n",
    "    # Call the function recursively on true and false branch\n",
    "    print(spacing, '-->True:')\n",
    "    print_tree(node.true_branch, spacing)\n",
    "    print(spacing, '-->False:')\n",
    "    print_tree(node.false_branch, spacing)\n"
   ]
  },
  {
   "cell_type": "markdown",
   "metadata": {},
   "source": [
    "### Main functions for buiding a tree and make prediction"
   ]
  },
  {
   "cell_type": "code",
   "execution_count": 10,
   "metadata": {
    "ExecuteTime": {
     "end_time": "2019-01-27T23:36:51.503574Z",
     "start_time": "2019-01-27T23:36:51.424763Z"
    },
    "collapsed": true
   },
   "outputs": [],
   "source": [
    "def partition(rows, question):\n",
    "    \"\"\"Partition a dataset based on a question\"\"\"\n",
    "    true_rows, false_rows = [], []\n",
    "    for row in rows:\n",
    "        if question.match(row):\n",
    "            true_rows.append(row)\n",
    "        else:\n",
    "            false_rows.append(row)\n",
    "    return true_rows, false_rows\n",
    "\n",
    "def find_best_split(rows):\n",
    "    \"\"\"Find the best question and information gain for partitioning\"\"\"\n",
    "    best_gain = 0\n",
    "    best_question = None\n",
    "    current_impurity = gini_impurity(rows)\n",
    "    n_features = len(rows[0]) - 1\n",
    "    # \n",
    "    for col in range(n_features):\n",
    "        values = set([row[col] for row in rows])\n",
    "        for val in values:\n",
    "            question = Question(col, val)\n",
    "            true_rows, false_rows = partition(rows, question)\n",
    "            if len(true_rows) == 0 or len(false_rows) == 0:\n",
    "                continue\n",
    "            gain = info_gain(true_rows, false_rows, current_impurity)\n",
    "            if gain >= best_gain:\n",
    "                best_gain, best_question = gain, question\n",
    "    return best_question, best_gain\n",
    "\n",
    "def build_tree(rows):\n",
    "    \"\"\"\n",
    "    Build tree recursively. There are two possible cases:\n",
    "    1. If info gain is zero (Base case):\n",
    "        Terminate partition process and return Leaf Node\n",
    "    2. Otherwise:\n",
    "        Continue building the tree recursively, return Decision Node\n",
    "    \"\"\"\n",
    "    question, gain = find_best_split(rows)\n",
    "    # 1. If info gain is zero\n",
    "    if gain == 0:\n",
    "        return Leaf(rows)\n",
    "    \n",
    "    # 2. Otherwise:\n",
    "    true_rows, false_rows = partition(rows, question)\n",
    "    # Recursively build the true and false branch\n",
    "    true_branch = build_tree(true_rows)\n",
    "    false_branch = build_tree(false_rows)\n",
    "    # Return a Decision node\n",
    "    return Decision_Node(question, true_branch, false_branch)\n",
    "\n",
    "def predict_proba(node, row):\n",
    "    \"\"\"Classify a row recursively\"\"\"\n",
    "    if isinstance(node, Leaf):\n",
    "        return node.predictions\n",
    "    else:\n",
    "        if node.question.match(row):\n",
    "            return predict_proba(node.true_branch, row)\n",
    "        else:\n",
    "            return predict_proba(node.false_branch, row)"
   ]
  },
  {
   "cell_type": "markdown",
   "metadata": {
    "ExecuteTime": {
     "end_time": "2019-01-27T23:30:51.035841Z",
     "start_time": "2019-01-27T23:30:51.033152Z"
    }
   },
   "source": [
    "### Main objects in a tree"
   ]
  },
  {
   "cell_type": "code",
   "execution_count": 11,
   "metadata": {
    "ExecuteTime": {
     "end_time": "2019-01-27T23:36:52.115749Z",
     "start_time": "2019-01-27T23:36:52.044459Z"
    }
   },
   "outputs": [],
   "source": [
    "class Question:\n",
    "    \"\"\"A Question used to partition a dataset\"\"\"\n",
    "    def __init__(self, column, value):\n",
    "        self.column = column\n",
    "        self.value = value\n",
    "        \n",
    "    def match(self, example):\n",
    "        \"\"\"Compare feature value in an example \n",
    "        to the feature value in this question\"\"\"\n",
    "        val = example[self.column]\n",
    "        if is_numeric(val):\n",
    "            return val >= self.value\n",
    "        else:\n",
    "            return val == self.value\n",
    "    \n",
    "    def __repr__(self):\n",
    "        \"\"\"Print this question in a readable format\"\"\"\n",
    "        condition = \"==\"\n",
    "        if is_numeric(self.value):\n",
    "            condition = \">=\"\n",
    "        return \"Is {} {} {} ?\".format(\n",
    "            header[self.column], condition, str(self.value))\n",
    "\n",
    "    \n",
    "class Leaf:\n",
    "    \"\"\"A leaf node classifies data\"\"\"\n",
    "    \n",
    "    def __init__(self, rows):\n",
    "        self.counts = dict(class_counts(rows))\n",
    "        self.predictions = counts_to_freq(self.counts)\n",
    "\n",
    "        \n",
    "class Decision_Node:\n",
    "    \"\"\"\n",
    "    A decision node ask question and split data.\n",
    "    This holds a reference to the question, and to| the two child nodes.\n",
    "    \"\"\"\n",
    "    \n",
    "    def __init__(self, question, true_branch, false_branch):\n",
    "        self.question = question\n",
    "        self.true_branch = true_branch\n",
    "        self.false_branch = false_branch\n",
    "        \n",
    "        \n",
    "class Decision_Tree_Classifier():\n",
    "    def __init__(self):\n",
    "        self.tree = None\n",
    "    \n",
    "    def train(self, rows):\n",
    "        self.tree = build_tree(rows)\n",
    "        \n",
    "    def print_tree(self):\n",
    "        return print_tree(self.tree, \"\")\n",
    "\n",
    "    def predict_proba(self, row):\n",
    "        \"\"\"Classify a row recursively\"\"\"\n",
    "        return predict_proba(self.tree, row)"
   ]
  },
  {
   "cell_type": "markdown",
   "metadata": {},
   "source": [
    "### Evaluate the model"
   ]
  },
  {
   "cell_type": "code",
   "execution_count": 12,
   "metadata": {
    "ExecuteTime": {
     "end_time": "2019-01-27T23:36:53.078067Z",
     "start_time": "2019-01-27T23:36:53.072025Z"
    }
   },
   "outputs": [
    {
     "name": "stdout",
     "output_type": "stream",
     "text": [
      " Is diameter >= 3 ?\n",
      "     -->True:\n",
      "     Is color == Yellow ?\n",
      "         -->True:\n",
      "         Predict {'Apple': 0.5, 'Lemon': 0.5}\n",
      "         -->False:\n",
      "         Predict {'Apple': 1.0}\n",
      "     -->False:\n",
      "     Predict {'Grape': 1.0}\n"
     ]
    }
   ],
   "source": [
    "clf = Decision_Tree_Classifier()\n",
    "clf.train(training_data)\n",
    "clf.print_tree()"
   ]
  },
  {
   "cell_type": "code",
   "execution_count": 13,
   "metadata": {
    "ExecuteTime": {
     "end_time": "2019-01-27T23:36:55.048909Z",
     "start_time": "2019-01-27T23:36:55.044460Z"
    }
   },
   "outputs": [
    {
     "data": {
      "text/plain": [
       "{'Apple': 0.5, 'Lemon': 0.5}"
      ]
     },
     "execution_count": 13,
     "metadata": {},
     "output_type": "execute_result"
    }
   ],
   "source": [
    "clf.predict_proba(training_data[1])"
   ]
  },
  {
   "cell_type": "code",
   "execution_count": null,
   "metadata": {
    "collapsed": true
   },
   "outputs": [],
   "source": []
  }
 ],
 "metadata": {
  "kernelspec": {
   "display_name": "Python 3",
   "language": "python",
   "name": "python3"
  },
  "language_info": {
   "codemirror_mode": {
    "name": "ipython",
    "version": 3
   },
   "file_extension": ".py",
   "mimetype": "text/x-python",
   "name": "python",
   "nbconvert_exporter": "python",
   "pygments_lexer": "ipython3",
   "version": "3.6.3"
  }
 },
 "nbformat": 4,
 "nbformat_minor": 2
}

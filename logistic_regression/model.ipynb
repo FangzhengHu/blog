{
 "cells": [
  {
   "cell_type": "code",
   "execution_count": 1,
   "metadata": {
    "ExecuteTime": {
     "end_time": "2019-01-19T23:03:37.016555Z",
     "start_time": "2019-01-19T23:03:35.675528Z"
    },
    "collapsed": true
   },
   "outputs": [],
   "source": [
    "import math\n",
    "import random\n",
    "import numpy as np\n",
    "import pandas as pd\n",
    "from time import time\n",
    "from sklearn.datasets import load_breast_cancer\n",
    "from sklearn.preprocessing import MinMaxScaler\n",
    "from sklearn.model_selection import train_test_split\n",
    "from sklearn.metrics import accuracy_score\n",
    "from sklearn.metrics import roc_auc_score"
   ]
  },
  {
   "cell_type": "code",
   "execution_count": 2,
   "metadata": {
    "ExecuteTime": {
     "end_time": "2019-01-19T23:03:50.913715Z",
     "start_time": "2019-01-19T23:03:50.849949Z"
    },
    "collapsed": true
   },
   "outputs": [],
   "source": [
    "class LogisticRegression(object):\n",
    "    def __init__(self, learning_rate=0.0001, max_iter=500000):\n",
    "        self.learning_rate = learning_rate\n",
    "        self.max_iter = max_iter\n",
    "\n",
    "    def train(self, X, y):\n",
    "        self.w = np.zeros(len(X[0]) + 1)\n",
    "        iter = 0\n",
    "        \n",
    "        while iter <= self.max_iter:\n",
    "            ## TODO: use SGD with batch size > 1 instead\n",
    "            index = random.randint(0, len(y) - 1)\n",
    "            xi = np.append(X[index], [1.0], axis=0)\n",
    "            yi = y[index]\n",
    "\n",
    "            w_xi = np.dot(self.w, xi)\n",
    "            exp_w_xi = math.exp(w_xi)\n",
    "\n",
    "            for j in range(len(self.w)):\n",
    "                g_wj = yi * xi[j] - exp_w_xi * xi[j] / (1 + exp_w_xi)\n",
    "                self.w[j] += self.learning_rate * g_wj\n",
    "            iter += 1\n",
    "\n",
    "    def predict_proba(self, X):\n",
    "        bias = np.zeros(len(X)) + 1.0\n",
    "        X = np.column_stack((X, bias))\n",
    "        proba = np.dot(X, self.w)\n",
    "        return proba\n",
    "\n",
    "    def predict(self, X):\n",
    "        proba = self.predict_proba(X)\n",
    "        y = (proba > 0.5).astype(float)\n",
    "        return y\n",
    "\n",
    "    def evaluate(self, X, y):\n",
    "        proba_predicted = self.predict_proba(X)\n",
    "        y_predicted = self.predict(X)\n",
    "        metrics = {\n",
    "            'auc_roc': roc_auc_score(y, proba_predicted),\n",
    "            'accuracy': accuracy_score(y, y_predicted)\n",
    "        }\n",
    "        return metrics"
   ]
  },
  {
   "cell_type": "code",
   "execution_count": 3,
   "metadata": {
    "ExecuteTime": {
     "end_time": "2019-01-19T23:04:49.153283Z",
     "start_time": "2019-01-19T23:03:59.577688Z"
    }
   },
   "outputs": [
    {
     "name": "stdout",
     "output_type": "stream",
     "text": [
      "Start training...\n",
      "Training took 49.53294610977173 seconds\n",
      "Training metrics: {'auc_roc': 0.9840123113751977, 'accuracy': 0.9230769230769231}\n",
      "Test metrics: {'auc_roc': 0.9978428351309707, 'accuracy': 0.9736842105263158}\n"
     ]
    }
   ],
   "source": [
    "X_all, y_all = load_breast_cancer(return_X_y=True)\n",
    "X_all = MinMaxScaler().fit_transform(X_all)\n",
    "X_train, X_test, y_train, y_test = train_test_split(X_all, y_all, test_size=0.2, random_state=23323)\n",
    "\n",
    "print('Start training...')\n",
    "lr = LogisticRegression()\n",
    "time_start = time()\n",
    "lr.train(X_train, y_train)\n",
    "print('Training took {} seconds'.format(time() - time_start))\n",
    "\n",
    "train_metrics = lr.evaluate(X_train, y_train)\n",
    "test_metrics = lr.evaluate(X_test, y_test)\n",
    "print('Training metrics:', train_metrics)\n",
    "print('Test metrics:', test_metrics)"
   ]
  }
 ],
 "metadata": {
  "kernelspec": {
   "display_name": "Python 3",
   "language": "python",
   "name": "python3"
  },
  "language_info": {
   "codemirror_mode": {
    "name": "ipython",
    "version": 3
   },
   "file_extension": ".py",
   "mimetype": "text/x-python",
   "name": "python",
   "nbconvert_exporter": "python",
   "pygments_lexer": "ipython3",
   "version": "3.6.3"
  }
 },
 "nbformat": 4,
 "nbformat_minor": 2
}
